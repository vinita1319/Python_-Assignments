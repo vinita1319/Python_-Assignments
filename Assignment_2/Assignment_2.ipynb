{
 "cells": [
  {
   "cell_type": "code",
   "execution_count": 14,
   "metadata": {},
   "outputs": [
    {
     "name": "stdout",
     "output_type": "stream",
     "text": [
      "10\n"
     ]
    }
   ],
   "source": [
    "#Task 1:\n",
    "#Prob 1.1:\n",
    "'''Write a Python Program to implement your own myreduce() function which works exactly like \\\n",
    "   Python's built-in function reduce()'''\n",
    "\n",
    "def myreduce (l):\n",
    "    sum=0\n",
    "    for i in l:\n",
    "        sum=sum+i\n",
    "    print (sum) \n",
    "\n",
    "m=[1,2,3,4]\n",
    "myreduce(m)\n"
   ]
  },
  {
   "cell_type": "code",
   "execution_count": 16,
   "metadata": {},
   "outputs": [
    {
     "data": {
      "text/plain": [
       "[2, 4]"
      ]
     },
     "execution_count": 16,
     "metadata": {},
     "output_type": "execute_result"
    }
   ],
   "source": [
    "#Task 1:\n",
    "#Prob 1.2:\n",
    "'''Write a Python program to implement your own myfilter() function which works exactly like\n",
    "   Python's built-in function filter()'''\n",
    "\n",
    "def myfilter (l):\n",
    "    output=[]\n",
    "    for i in l:\n",
    "        if (i%2==0):\n",
    "            output.append(i)\n",
    "    return output\n",
    "\n",
    "myfilter ([2,3,4])"
   ]
  },
  {
   "cell_type": "code",
   "execution_count": 50,
   "metadata": {},
   "outputs": [
    {
     "name": "stdout",
     "output_type": "stream",
     "text": [
      "['A', 'C', 'A', 'D', 'G', 'I', 'L', 'D']\n",
      "['X', 'XX', 'XXX', 'XXXX', 'Y', 'YY', 'YYY', 'YYYY', 'Z', 'ZZ', 'ZZZ', 'ZZZZ']\n",
      "['X', 'Y', 'Z', 'XX', 'YY', 'ZZ', 'XXX', 'YYY', 'ZZZ', 'XXXX', 'YYYY', 'ZZZZ']\n",
      "[[2], [3], [4], [3], [4], [5], [4], [5], [6]]\n",
      "[[2, 3, 4, 5], [2, 3, 4, 5], [2, 3, 4, 5], [2, 3, 4, 5]]\n",
      "[[2, 3, 4, 5, 3, 4, 5, 6], [2, 3, 4, 5, 3, 4, 5, 6], [2, 3, 4, 5, 3, 4, 5, 6], [2, 3, 4, 5, 3, 4, 5, 6], [2, 3, 4, 5, 3, 4, 5, 6], [2, 3, 4, 5, 3, 4, 5, 6], [2, 3, 4, 5, 3, 4, 5, 6], [2, 3, 4, 5, 3, 4, 5, 6]]\n",
      "[[2, 3, 4, 5, 3, 4, 5, 6, 4, 5, 6, 7], [2, 3, 4, 5, 3, 4, 5, 6, 4, 5, 6, 7], [2, 3, 4, 5, 3, 4, 5, 6, 4, 5, 6, 7], [2, 3, 4, 5, 3, 4, 5, 6, 4, 5, 6, 7], [2, 3, 4, 5, 3, 4, 5, 6, 4, 5, 6, 7], [2, 3, 4, 5, 3, 4, 5, 6, 4, 5, 6, 7], [2, 3, 4, 5, 3, 4, 5, 6, 4, 5, 6, 7], [2, 3, 4, 5, 3, 4, 5, 6, 4, 5, 6, 7], [2, 3, 4, 5, 3, 4, 5, 6, 4, 5, 6, 7], [2, 3, 4, 5, 3, 4, 5, 6, 4, 5, 6, 7], [2, 3, 4, 5, 3, 4, 5, 6, 4, 5, 6, 7], [2, 3, 4, 5, 3, 4, 5, 6, 4, 5, 6, 7]]\n",
      "[(1, 1), (2, 1), (3, 1), (1, 2), (2, 2), (3, 2), (1, 3), (2, 3), (3, 3)]\n"
     ]
    }
   ],
   "source": [
    "#Task 1:\n",
    "#Prob 2:\n",
    "'''Implement List comprehensions to produce the following lists.\n",
    "Write List comprehensions to produce the following Lists\n",
    "['A', 'C', 'A', 'D', 'G', 'I', ’L’, ‘ D’]\n",
    "['x', 'xx', 'xxx', 'xxxx', 'y', 'yy', 'yyy', 'yyyy', 'z', 'zz', 'zzz', 'zzzz']\n",
    "['x', 'y', 'z', 'xx', 'yy', 'zz', 'xx', 'yy', 'zz', 'xxxx', 'yyyy', 'zzzz']\n",
    "[[2], [3], [4], [3], [4], [5], [4], [5], [6]]\n",
    "[[2, 3, 4, 5], [3, 4, 5, 6], [4, 5, 6, 7], [5, 6, 7, 8]]\n",
    "[(1, 1), (2, 1), (3, 1), (1, 2), (2, 2), (3, 2), (1, 3), (2, 3), (3, 3)]'''\n",
    "\n",
    "list = 'ACADGILD'\n",
    "print([letter for letter in list])\n",
    "\n",
    "List2 = \"XYZ\"\n",
    "order= range(1,5)\n",
    "\"\"\"for i in List2:\n",
    "    for j in order:\n",
    "       print( i*j)\"\"\"\n",
    "print([words*multip for words in List2 for multip in order])  \n",
    "    \n",
    "List3 =\"XYZ\"\n",
    "order3=range(1,5)\n",
    "print([words*multip for  multip in order for words in List2])  \n",
    "  \n",
    "List1 = range(2,5)\n",
    "List2=range (3)\n",
    "print([[i+j] for  i in List1 for j in List2])\n",
    "\n",
    "List1 = range(2,5) # 2,3,4\n",
    "List2=range (4)  # 0,1,2,3\n",
    "m=[]\n",
    "n=[]\n",
    "for i in List1:\n",
    "    for j in List2:\n",
    "        n.append(i+j)\n",
    "        m.append(n)\n",
    "    print(m)\n",
    "\n",
    "    \n",
    "listouter=[1,2,3]\n",
    "listinner=[1,2,3]\n",
    "print([(j,i) for i in listouter for j in listinner])"
   ]
  },
  {
   "cell_type": "code",
   "execution_count": 65,
   "metadata": {},
   "outputs": [
    {
     "name": "stdout",
     "output_type": "stream",
     "text": [
      "dfg\n"
     ]
    }
   ],
   "source": [
    "#Task 1:\n",
    "#Prob 3:\n",
    "'''Implement a function longestWord() that takes a list of words and returns the longest one.'''\n",
    "\n",
    "def longestWord(l):\n",
    "    for i in l:\n",
    "        m=0\n",
    "        result ='m'\n",
    "        if len(i)>m:\n",
    "            m=len(i)\n",
    "            result=i\n",
    "        elif len(i)==m:\n",
    "                result=i\n",
    "    print(result)\n",
    "    \n",
    "longestWord(['a','bc','cd','dfg'])\n",
    "  \n",
    "           \n",
    "\n"
   ]
  },
  {
   "cell_type": "code",
   "execution_count": 66,
   "metadata": {},
   "outputs": [
    {
     "name": "stdout",
     "output_type": "stream",
     "text": [
      "Please enter the s value1\n",
      "Please enter the value of first side2\n",
      "Please enter the value of second side3\n",
      "Please enter the value of third side4\n",
      "(1.4998798865218462e-16+2.449489742783178j)\n"
     ]
    }
   ],
   "source": [
    "#Task 2:\n",
    "#Prob 1.1:\n",
    "'''Write a Python Program(with class concepts) to find the area of the triangle using the below\n",
    "formula.\n",
    "area = (s*(s-a)*(s-b)*(s-c)) ** 0.5\n",
    "Function to take the length of the sides of triangle from user should be defined in the parent\n",
    "class and function to calculate the area should be defined in subclass.'''\n",
    "\n",
    "\n",
    "def area(s,a,b,c):\n",
    "    area = (s*(s-a)*(s-b)*(s-c)) ** 0.5\n",
    "    return area\n",
    "\n",
    "s= int(input(\"Please enter the s value\"))\n",
    "a= int(input(\"Please enter the value of first side\"))\n",
    "b= int(input(\"Please enter the value of second side\"))\n",
    "c= int(input(\"Please enter the value of third side\"))\n",
    "\n",
    "result = area(s,a,b,c)\n",
    "print (result)"
   ]
  },
  {
   "cell_type": "code",
   "execution_count": 68,
   "metadata": {},
   "outputs": [
    {
     "name": "stdout",
     "output_type": "stream",
     "text": [
      "please enter the length3\n",
      "Please enter the list of words with spaceasd f asdf s\n",
      "['asdf']\n"
     ]
    }
   ],
   "source": [
    "#Task 2:\n",
    "#Prob 1.2:\n",
    "'''Write a function filter_long_words() that takes a list of words and an integer n and returns the list\n",
    "of words that are longer than n.'''\n",
    "\n",
    "def filter_long_words(n, l):\n",
    "    result=[]\n",
    "    for i in l:\n",
    "        if len(i)>n:\n",
    "            result.append(i)\n",
    "    print(result)\n",
    "        \n",
    "l=int(input(\"please enter the length\"))  \n",
    "List = input(\"Please enter the list of words with space\")\n",
    "userList= List.split()\n",
    "filter_long_words(l, userList)\n",
    "\n",
    "        "
   ]
  },
  {
   "cell_type": "code",
   "execution_count": 70,
   "metadata": {},
   "outputs": [
    {
     "name": "stdout",
     "output_type": "stream",
     "text": [
      "Please enter the words with spacea,sd,asd\n",
      "[1, 2, 3]\n"
     ]
    }
   ],
   "source": [
    "#Task 2:\n",
    "#Prob 2.1:\n",
    "'''Write a Python program using function concept that maps list of words into a list of integers\n",
    "representing the lengths of the corresponding words .'''\n",
    "\n",
    "def lenMap(l):\n",
    "    result =[]\n",
    "    for n in l:\n",
    "        result.append(len(n))\n",
    "    print(result)\n",
    "    \n",
    "i= input(\"Please enter the words with space\")\n",
    "UserInput=i.split(\",\")\n",
    "\n",
    "lenMap(UserInput)\n",
    "        \n"
   ]
  },
  {
   "cell_type": "code",
   "execution_count": 75,
   "metadata": {},
   "outputs": [
    {
     "name": "stdout",
     "output_type": "stream",
     "text": [
      "Please enter the words with spacem\n"
     ]
    },
    {
     "data": {
      "text/plain": [
       "False"
      ]
     },
     "execution_count": 75,
     "metadata": {},
     "output_type": "execute_result"
    }
   ],
   "source": [
    "#Task 2:\n",
    "#Prob 2.2:\n",
    "'''Write a Python function which takes a character (i.e. a string of length 1) and returns True if it is\n",
    "a vowel, False otherwise.'''\n",
    "\n",
    "def lenMap(l):\n",
    "    vow =['a','e','i','o','u']\n",
    "    for n in l:\n",
    "        if len(n)==1:\n",
    "            if (n in vow):\n",
    "                return True\n",
    "            else:\n",
    "                return False\n",
    "        else:\n",
    "            print(\"Length more then 1\")\n",
    "        \n",
    "    \n",
    "i= input(\"Please enter the words with space\")\n",
    "UserInput=i.split(\",\")\n",
    "\n",
    "lenMap(UserInput)"
   ]
  },
  {
   "cell_type": "code",
   "execution_count": null,
   "metadata": {},
   "outputs": [],
   "source": []
  },
  {
   "cell_type": "code",
   "execution_count": null,
   "metadata": {},
   "outputs": [],
   "source": []
  }
 ],
 "metadata": {
  "kernelspec": {
   "display_name": "Python 3",
   "language": "python",
   "name": "python3"
  },
  "language_info": {
   "codemirror_mode": {
    "name": "ipython",
    "version": 3
   },
   "file_extension": ".py",
   "mimetype": "text/x-python",
   "name": "python",
   "nbconvert_exporter": "python",
   "pygments_lexer": "ipython3",
   "version": "3.7.4"
  }
 },
 "nbformat": 4,
 "nbformat_minor": 2
}
